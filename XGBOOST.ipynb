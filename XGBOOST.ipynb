{
 "cells": [
  {
   "cell_type": "code",
   "execution_count": 5,
   "metadata": {},
   "outputs": [],
   "source": [
    "import numpy as np\n",
    "import xgboost as xgb"
   ]
  },
  {
   "cell_type": "code",
   "execution_count": 8,
   "metadata": {},
   "outputs": [
    {
     "name": "stdout",
     "output_type": "stream",
     "text": [
      "[21:47:01] 6513x127 matrix with 143286 entries loaded from agaricus.txt.train\n",
      "[21:47:01] 1611x127 matrix with 35442 entries loaded from agaricus.txt.test\n",
      "Train dataset contains 6513 rows and 127 columns\n",
      "Test dataset contains 1611 rows and 127 columns\n",
      "Train possible labels: \n",
      "[0. 1.]\n",
      "\n",
      "Test possible labels: \n",
      "[0. 1.]\n"
     ]
    }
   ],
   "source": [
    "dtrain = xgb.DMatrix('agaricus.txt.train')\n",
    "dtest = xgb.DMatrix('agaricus.txt.test')\n",
    "\n",
    "print(\"Train dataset contains {0} rows and {1} columns\".format(dtrain.num_row(), dtrain.num_col()))\n",
    "print(\"Test dataset contains {0} rows and {1} columns\".format(dtest.num_row(), dtest.num_col()))\n",
    "\n",
    "print(\"Train possible labels: \")\n",
    "print(np.unique(dtrain.get_label()))\n",
    "\n",
    "print(\"\\nTest possible labels: \")\n",
    "print(np.unique(dtest.get_label()))"
   ]
  },
  {
   "cell_type": "markdown",
   "metadata": {},
   "source": [
    "### Train the model <a name='params' />\n",
    "\n",
    "Specify training parameters"
   ]
  },
  {
   "cell_type": "code",
   "execution_count": 8,
   "metadata": {},
   "outputs": [],
   "source": [
    "params = {\n",
    "    'objective':'binary:logistic',\n",
    "    'max_depth':1,\n",
    "    'silent':1,\n",
    "    'eta':0.5\n",
    "}\n",
    "\n",
    "num_rounds = 5"
   ]
  },
  {
   "cell_type": "markdown",
   "metadata": {},
   "source": [
    "### Training classifier<a name='train' />"
   ]
  },
  {
   "cell_type": "code",
   "execution_count": 14,
   "metadata": {},
   "outputs": [
    {
     "name": "stdout",
     "output_type": "stream",
     "text": [
      "[0]\ttest-error:0.042831\ttrain-error:0.046522\n",
      "[1]\ttest-error:0.021726\ttrain-error:0.022263\n",
      "[2]\ttest-error:0.006207\ttrain-error:0.007063\n",
      "[3]\ttest-error:0.018001\ttrain-error:0.0152\n",
      "[4]\ttest-error:0.006207\ttrain-error:0.007063\n"
     ]
    }
   ],
   "source": [
    "# see how does it perform\n",
    "watchlist  = [(dtest,'test'), (dtrain,'train')] # native interface only\n",
    "bst = xgb.train(params, dtrain, num_rounds, watchlist)"
   ]
  },
  {
   "cell_type": "markdown",
   "metadata": {},
   "source": [
    "### Make predictions<a name='predict' />"
   ]
  },
  {
   "cell_type": "code",
   "execution_count": 17,
   "metadata": {},
   "outputs": [
    {
     "data": {
      "text/plain": [
       "array([0.08073306, 0.92217326, 0.08073306, ..., 0.98059034, 0.01182149,\n",
       "       0.98059034], dtype=float32)"
      ]
     },
     "execution_count": 17,
     "metadata": {},
     "output_type": "execute_result"
    }
   ],
   "source": [
    "preds_prob = bst.predict(dtest)\n",
    "preds_prob"
   ]
  },
  {
   "cell_type": "code",
   "execution_count": 18,
   "metadata": {},
   "outputs": [
    {
     "name": "stdout",
     "output_type": "stream",
     "text": [
      "Predicted correctly: 1601/1611\n",
      "Error: 0.0062\n"
     ]
    }
   ],
   "source": [
    "# Calculate simple accuracy metric to verify the results.\n",
    "labels = dtest.get_label()\n",
    "preds = preds_prob > 0.5 # threshold\n",
    "correct = 0\n",
    "\n",
    "for i in range(len(preds)):\n",
    "    if (labels[i] == preds[i]):\n",
    "        correct += 1\n",
    "\n",
    "print('Predicted correctly: {0}/{1}'.format(correct, len(preds)))\n",
    "print('Error: {0:.4f}'.format(1-correct/len(preds)))"
   ]
  },
  {
   "cell_type": "markdown",
   "metadata": {},
   "source": [
    "### Representation of a tree<a name='tree' />"
   ]
  },
  {
   "cell_type": "code",
   "execution_count": 19,
   "metadata": {},
   "outputs": [
    {
     "name": "stdout",
     "output_type": "stream",
     "text": [
      "0:[odor=pungent] yes=2,no=1,gain=4000.53101,cover=1628.25\n",
      "\t1:[stalk-root=cup] yes=4,no=3,gain=1158.21204,cover=924.5\n",
      "\t\t3:leaf=1.71217716,cover=812\n",
      "\t\t4:leaf=-1.70044053,cover=112.5\n",
      "\t2:[spore-print-color=orange] yes=6,no=5,gain=198.173828,cover=703.75\n",
      "\t\t5:leaf=-1.94070864,cover=690.5\n",
      "\t\t6:leaf=1.85964918,cover=13.25\n",
      "\n",
      "0:[stalk-root=missing] yes=2,no=1,gain=832.545044,cover=788.852051\n",
      "\t1:[odor=pungent] yes=4,no=3,gain=569.725098,cover=768.389709\n",
      "\t\t3:leaf=0.78471756,cover=458.936859\n",
      "\t\t4:leaf=-0.968530357,cover=309.45282\n",
      "\t2:leaf=-6.23624468,cover=20.462389\n",
      "\n",
      "0:[ring-type=sheathing] yes=2,no=1,gain=368.744568,cover=457.069458\n",
      "\t1:[stalk-surface-below-ring=silky] yes=4,no=3,gain=226.33696,cover=221.051468\n",
      "\t\t3:leaf=0.658725023,cover=212.999451\n",
      "\t\t4:leaf=5.77228642,cover=8.05200672\n",
      "\t2:[spore-print-color=white] yes=6,no=5,gain=258.184265,cover=236.018005\n",
      "\t\t5:leaf=-0.791407049,cover=233.487625\n",
      "\t\t6:leaf=-9.421422,cover=2.53038669\n",
      "\n",
      "0:[odor=musty] yes=2,no=1,gain=140.486069,cover=364.119354\n",
      "\t1:[gill-size=narrow] yes=4,no=3,gain=139.860504,cover=274.101959\n",
      "\t\t3:leaf=0.614153326,cover=95.8599854\n",
      "\t\t4:leaf=-0.877905607,cover=178.241974\n",
      "\t2:leaf=1.07747853,cover=90.0174103\n",
      "\n",
      "0:[spore-print-color=orange] yes=2,no=1,gain=112.605011,cover=189.202194\n",
      "\t1:[gill-spacing=crowded] yes=4,no=3,gain=66.4029999,cover=177.771835\n",
      "\t\t3:leaf=-1.26934469,cover=42.277401\n",
      "\t\t4:leaf=0.152607277,cover=135.494431\n",
      "\t2:leaf=2.92190909,cover=11.4303684\n",
      "\n"
     ]
    }
   ],
   "source": [
    "trees_dump = bst.get_dump(fmap='data/featmap.txt', with_stats=True)\n",
    "\n",
    "for tree in trees_dump:\n",
    "    print(tree)"
   ]
  },
  {
   "cell_type": "markdown",
   "metadata": {},
   "source": [
    "### Plotting<a name='plot' />"
   ]
  },
  {
   "cell_type": "code",
   "execution_count": 20,
   "metadata": {},
   "outputs": [
    {
     "name": "stderr",
     "output_type": "stream",
     "text": [
      "\n",
      "Bad key \"text.kerning_factor\" on line 4 in\n",
      "C:\\Users\\Etudiant\\.conda\\envs\\pytorch_p37\\lib\\site-packages\\matplotlib\\mpl-data\\stylelib\\_classic_test_patch.mplstyle.\n",
      "You probably need to get an updated matplotlibrc file from\n",
      "https://github.com/matplotlib/matplotlib/blob/v3.1.3/matplotlibrc.template\n",
      "or from the matplotlib source distribution\n"
     ]
    },
    {
     "data": {
      "text/plain": [
       "<matplotlib.axes._subplots.AxesSubplot at 0x21204c5fd48>"
      ]
     },
     "execution_count": 20,
     "metadata": {},
     "output_type": "execute_result"
    },
    {
     "data": {
      "image/png": "[encoded data removed]",
      "text/plain": [
       "<Figure size 432x288 with 1 Axes>"
      ]
     },
     "metadata": {
      "needs_background": "light"
     },
     "output_type": "display_data"
    }
   ],
   "source": [
    "xgb.plot_importance(bst, importance_type='gain', xlabel='Gain')"
   ]
  },
  {
   "cell_type": "code",
   "execution_count": 22,
   "metadata": {},
   "outputs": [
    {
     "data": {
      "text/plain": [
       "<matplotlib.axes._subplots.AxesSubplot at 0x212065d85c8>"
      ]
     },
     "execution_count": 22,
     "metadata": {},
     "output_type": "execute_result"
    },
    {
     "data": {
      "image/png": "[encoded data removed]",
      "text/plain": [
       "<Figure size 432x288 with 1 Axes>"
      ]
     },
     "metadata": {
      "needs_background": "light"
     },
     "output_type": "display_data"
    }
   ],
   "source": [
    "# F-score\n",
    "xgb.plot_importance(bst)"
   ]
  },
  {
   "cell_type": "code",
   "execution_count": 23,
   "metadata": {},
   "outputs": [
    {
     "data": {
      "text/plain": [
       "{'f29': 2,\n",
       " 'f56': 1,\n",
       " 'f109': 2,\n",
       " 'f60': 1,\n",
       " 'f102': 1,\n",
       " 'f67': 1,\n",
       " 'f111': 1,\n",
       " 'f27': 1,\n",
       " 'f39': 1,\n",
       " 'f36': 1}"
      ]
     },
     "execution_count": 23,
     "metadata": {},
     "output_type": "execute_result"
    }
   ],
   "source": [
    "importances = bst.get_fscore()\n",
    "importances"
   ]
  },
  {
   "cell_type": "code",
   "execution_count": 26,
   "metadata": {},
   "outputs": [
    {
     "data": {
      "text/plain": [
       "<matplotlib.axes._subplots.AxesSubplot at 0x212068aaf88>"
      ]
     },
     "execution_count": 26,
     "metadata": {},
     "output_type": "execute_result"
    },
    {
     "data": {
      "image/png": "[encoded data removed]",
      "text/plain": [
       "<Figure size 576x432 with 1 Axes>"
      ]
     },
     "metadata": {
      "needs_background": "light"
     },
     "output_type": "display_data"
    }
   ],
   "source": [
    "# create df\n",
    "import pandas as pd\n",
    "importance_df = pd.DataFrame({\n",
    "        'Splits': list(importances.values()),\n",
    "        'Feature': list(importances.keys())\n",
    "    })\n",
    "importance_df.sort_values(by='Splits', inplace=True)\n",
    "importance_df.plot(kind='barh', x='Feature', figsize=(8,6), color='pink')"
   ]
  },
  {
   "cell_type": "markdown",
   "metadata": {},
   "source": [
    "# Bias/variance \n"
   ]
  },
  {
   "cell_type": "code",
   "execution_count": 67,
   "metadata": {},
   "outputs": [],
   "source": [
    "%matplotlib inline\n",
    "\n",
    "import numpy as np\n",
    "import matplotlib.pyplot as plt\n",
    "from sklearn.model_selection import RandomizedSearchCV, GridSearchCV, train_test_split\n",
    "from sklearn.model_selection import validation_curve\n",
    "from sklearn.datasets import load_svmlight_files\n",
    "from sklearn.model_selection import StratifiedKFold\n",
    "from sklearn.datasets import make_classification\n",
    "from xgboost.sklearn import XGBClassifier\n",
    "from scipy.sparse import vstack\n",
    "from scipy.stats import randint, uniform\n",
    "\n",
    "# reproducibility\n",
    "seed = 123\n",
    "np.random.seed(seed)"
   ]
  },
  {
   "cell_type": "code",
   "execution_count": 52,
   "metadata": {},
   "outputs": [],
   "source": [
    "# generate artificial dataset\n",
    "X = 'data/agaricus.txt.train'\n",
    "y = 'data/agaricus.txt.test'\n",
    "X, y = make_classification(n_samples=1000, n_features=20, n_informative=8, n_redundant=3, n_repeated=2, random_state=seed)"
   ]
  },
  {
   "cell_type": "code",
   "execution_count": 60,
   "metadata": {},
   "outputs": [],
   "source": [
    "# divide into 10 stratified folds (the same distibution of labels in each fold) for testing\n",
    "#cv = StratifiedKFold(y, n_folds=10, shuffle=True, random_state=seed)\n",
    "cv = StratifiedKFold( n_splits=10, shuffle=True, random_state=seed)"
   ]
  },
  {
   "cell_type": "code",
   "execution_count": 61,
   "metadata": {},
   "outputs": [],
   "source": [
    "# check how the number of trees influence the predictions accuracy\n",
    "default_params = {\n",
    "    'objective': 'binary:logistic',\n",
    "    'max_depth': 1,\n",
    "    'learning_rate': 0.3,\n",
    "    'silent': 1\n",
    "}\n",
    "\n",
    "n_estimators_range = np.linspace(1, 200, 10).astype('int')\n",
    "\n",
    "train_scores, test_scores = validation_curve(\n",
    "    XGBClassifier(**default_params),\n",
    "    X, y,\n",
    "    param_name = 'n_estimators',\n",
    "    param_range = n_estimators_range,\n",
    "    cv=cv,\n",
    "    scoring='accuracy'\n",
    ")"
   ]
  },
  {
   "cell_type": "code",
   "execution_count": 62,
   "metadata": {},
   "outputs": [
    {
     "data": {
      "image/png": "[encoded data removed]",
      "text/plain": [
       "<Figure size 1000x600 with 1 Axes>"
      ]
     },
     "metadata": {
      "needs_background": "light"
     },
     "output_type": "display_data"
    },
    {
     "name": "stdout",
     "output_type": "stream",
     "text": [
      "Best cross-validation result (0.84) obtained for 133 trees\n"
     ]
    }
   ],
   "source": [
    "train_scores_mean = np.mean(train_scores, axis=1)\n",
    "train_scores_std = np.std(train_scores, axis=1)\n",
    "test_scores_mean = np.mean(test_scores, axis=1)\n",
    "test_scores_std = np.std(test_scores, axis=1)\n",
    "\n",
    "fig = plt.figure(figsize=(10, 6), dpi=100)\n",
    "\n",
    "plt.title(\"Validation Curve with XGBoost (eta = 0.3)\")\n",
    "plt.xlabel(\"number of trees\")\n",
    "plt.ylabel(\"Accuracy\")\n",
    "plt.ylim(0.7, 1.1)\n",
    "\n",
    "plt.plot(n_estimators_range,\n",
    "             train_scores_mean,\n",
    "             label=\"Training score\",\n",
    "             color=\"r\")\n",
    "\n",
    "plt.plot(n_estimators_range,\n",
    "             test_scores_mean, \n",
    "             label=\"Cross-validation score\",\n",
    "             color=\"g\")\n",
    "\n",
    "plt.fill_between(n_estimators_range, \n",
    "                 train_scores_mean - train_scores_std,\n",
    "                 train_scores_mean + train_scores_std, \n",
    "                 alpha=0.2, color=\"r\")\n",
    "\n",
    "plt.fill_between(n_estimators_range,\n",
    "                 test_scores_mean - test_scores_std,\n",
    "                 test_scores_mean + test_scores_std,\n",
    "                 alpha=0.2, color=\"g\")\n",
    "\n",
    "plt.axhline(y=1, color='k', ls='dashed')\n",
    "\n",
    "plt.legend(loc=\"best\")\n",
    "plt.show()\n",
    "\n",
    "i = np.argmax(test_scores_mean)\n",
    "print(\"Best cross-validation result ({0:.2f}) obtained for {1} trees\".format(test_scores_mean[i], n_estimators_range[i]))"
   ]
  },
  {
   "cell_type": "code",
   "execution_count": 63,
   "metadata": {},
   "outputs": [],
   "source": [
    "default_params = {\n",
    "    'objective': 'binary:logistic',\n",
    "    'max_depth': 2, # changed\n",
    "    'learning_rate': 0.3,\n",
    "    'silent': 1,\n",
    "    'colsample_bytree': 0.6, # added\n",
    "    'subsample': 0.7 # added\n",
    "}\n",
    "\n",
    "n_estimators_range = np.linspace(1, 200, 10).astype('int')\n",
    "\n",
    "train_scores, test_scores = validation_curve(\n",
    "    XGBClassifier(**default_params),\n",
    "    X, y,\n",
    "    param_name = 'n_estimators',\n",
    "    param_range = n_estimators_range,\n",
    "    cv=cv,\n",
    "    scoring='accuracy'\n",
    ")"
   ]
  },
  {
   "cell_type": "code",
   "execution_count": 64,
   "metadata": {},
   "outputs": [
    {
     "data": {
      "image/png": "[encoded data removed]",
      "text/plain": [
       "<Figure size 1000x600 with 1 Axes>"
      ]
     },
     "metadata": {
      "needs_background": "light"
     },
     "output_type": "display_data"
    },
    {
     "name": "stdout",
     "output_type": "stream",
     "text": [
      "Best cross-validation result (0.89) obtained for 200 trees\n"
     ]
    }
   ],
   "source": [
    "train_scores_mean = np.mean(train_scores, axis=1)\n",
    "train_scores_std = np.std(train_scores, axis=1)\n",
    "test_scores_mean = np.mean(test_scores, axis=1)\n",
    "test_scores_std = np.std(test_scores, axis=1)\n",
    "\n",
    "fig = plt.figure(figsize=(10, 6), dpi=100)\n",
    "\n",
    "plt.title(\"Validation Curve with XGBoost (eta = 0.3)\")\n",
    "plt.xlabel(\"number of trees\")\n",
    "plt.ylabel(\"Accuracy\")\n",
    "plt.ylim(0.7, 1.1)\n",
    "\n",
    "plt.plot(n_estimators_range,\n",
    "             train_scores_mean,\n",
    "             label=\"Training score\",\n",
    "             color=\"r\")\n",
    "\n",
    "plt.plot(n_estimators_range,\n",
    "             test_scores_mean, \n",
    "             label=\"Cross-validation score\",\n",
    "             color=\"g\")\n",
    "\n",
    "plt.fill_between(n_estimators_range, \n",
    "                 train_scores_mean - train_scores_std,\n",
    "                 train_scores_mean + train_scores_std, \n",
    "                 alpha=0.2, color=\"r\")\n",
    "\n",
    "plt.fill_between(n_estimators_range,\n",
    "                 test_scores_mean - test_scores_std,\n",
    "                 test_scores_mean + test_scores_std,\n",
    "                 alpha=0.2, color=\"g\")\n",
    "\n",
    "plt.axhline(y=1, color='k', ls='dashed')\n",
    "\n",
    "plt.legend(loc=\"best\")\n",
    "plt.show()\n",
    "\n",
    "i = np.argmax(test_scores_mean)\n",
    "print(\"Best cross-validation result ({0:.2f}) obtained for {1} trees\".format(test_scores_mean[i], n_estimators_range[i]))"
   ]
  },
  {
   "cell_type": "code",
   "execution_count": 68,
   "metadata": {},
   "outputs": [
    {
     "data": {
      "text/plain": [
       "GridSearchCV(cv=StratifiedKFold(n_splits=10, random_state=123, shuffle=True),\n",
       "             error_score=nan,\n",
       "             estimator=XGBClassifier(base_score=0.5, booster='gbtree',\n",
       "                                     colsample_bylevel=1, colsample_bynode=1,\n",
       "                                     colsample_bytree=1, gamma=0,\n",
       "                                     learning_rate=0.1, max_delta_step=0,\n",
       "                                     max_depth=3, min_child_weight=1,\n",
       "                                     missing=None, n_estimators=100, n_jobs=1,\n",
       "                                     nthread=None, objective='binary:logistic',\n",
       "                                     random_state=0, reg_alpha=0, reg_lambda=1,\n",
       "                                     scale_pos_weight=1, seed=123, silent=1,\n",
       "                                     subsample=1, verbosity=1),\n",
       "             iid='deprecated', n_jobs=None,\n",
       "             param_grid={'learning_rate': array([1.e-16, 5.e-01, 1.e+00]),\n",
       "                         'max_depth': [1, 2, 3],\n",
       "                         'n_estimators': [5, 10, 25, 50]},\n",
       "             pre_dispatch='2*n_jobs', refit=True, return_train_score=False,\n",
       "             scoring='accuracy', verbose=0)"
      ]
     },
     "execution_count": 68,
     "metadata": {},
     "output_type": "execute_result"
    }
   ],
   "source": [
    "# Defining parameters for grid_search\n",
    "params_grid = {\n",
    "    'max_depth': [1, 2, 3],\n",
    "    'n_estimators': [5, 10, 25, 50],\n",
    "    'learning_rate': np.linspace(1e-16, 1, 3)\n",
    "}\n",
    "\n",
    "# add a dictionary for fixed parameters\n",
    "params_fixed = {\n",
    "    'objective': 'binary:logistic',\n",
    "    'silent': 1\n",
    "}\n",
    "\n",
    "# Create a GridSearchCV estimator.\n",
    "bst_grid = GridSearchCV(\n",
    "    estimator=XGBClassifier(**params_fixed, seed=seed),\n",
    "    param_grid=params_grid,\n",
    "    cv=cv,\n",
    "    scoring='accuracy'\n",
    ")\n",
    "bst_grid.fit(X, y)"
   ]
  },
  {
   "cell_type": "code",
   "execution_count": 76,
   "metadata": {},
   "outputs": [
    {
     "data": {
      "text/plain": [
       "{'mean_fit_time': array([0.00449927, 0.00680044, 0.01370604, 0.02529933, 0.00590429,\n",
       "        0.00979798, 0.02160132, 0.04159606, 0.0079016 , 0.01390243,\n",
       "        0.03230548, 0.06239982, 0.0041008 , 0.00619986, 0.01320095,\n",
       "        0.02490461, 0.00599802, 0.01029601, 0.02319942, 0.04260559,\n",
       "        0.00849767, 0.01440427, 0.03169203, 0.05939925, 0.00419972,\n",
       "        0.00619454, 0.0130003 , 0.02399671, 0.00589933, 0.00959921,\n",
       "        0.02210295, 0.04100344, 0.00769999, 0.01349831, 0.03119862,\n",
       "        0.05660281]),\n",
       " 'std_fit_time': array([8.06983195e-04, 1.16863774e-03, 8.95169104e-04, 2.28354430e-03,\n",
       "        3.04722322e-04, 6.02086752e-04, 4.88479259e-04, 6.56637804e-04,\n",
       "        5.32268269e-04, 2.88156624e-04, 1.26644467e-03, 6.64889453e-04,\n",
       "        2.99362055e-04, 4.00242756e-04, 3.97713003e-04, 1.22059013e-03,\n",
       "        2.17053242e-05, 8.96567671e-04, 1.40659891e-03, 1.44057653e-03,\n",
       "        6.76259611e-04, 6.71478883e-04, 1.00076777e-03, 1.02323701e-03,\n",
       "        4.02900981e-04, 4.08816676e-04, 4.47558907e-04, 8.57594645e-06,\n",
       "        2.99429915e-04, 4.91350845e-04, 1.29838970e-03, 4.47519186e-04,\n",
       "        4.59420581e-04, 5.00876774e-04, 1.40151523e-03, 2.19639031e-03]),\n",
       " 'mean_score_time': array([0.00060043, 0.00050015, 0.00020008, 0.00060041, 0.00049767,\n",
       "        0.00060232, 0.00049953, 0.00060279, 0.00050094, 0.00030377,\n",
       "        0.00029674, 0.00030048, 0.00029821, 0.00030026, 0.00020003,\n",
       "        0.00039954, 0.00020325, 0.0005002 , 0.0005008 , 0.00070045,\n",
       "        0.00039802, 0.0007031 , 0.00040355, 0.00050368, 0.0001997 ,\n",
       "        0.00019999, 0.00039997, 0.00070212, 0.00019996, 0.00050027,\n",
       "        0.00059683, 0.00049946, 0.00039949, 0.00040023, 0.0004009 ,\n",
       "        0.00069973]),\n",
       " 'std_score_time': array([0.00049025, 0.00050016, 0.00040016, 0.00049024, 0.00049792,\n",
       "        0.00049189, 0.00049954, 0.00049232, 0.00050111, 0.00046412,\n",
       "        0.00045333, 0.00045899, 0.00045555, 0.00045866, 0.00040007,\n",
       "        0.00048934, 0.00040657, 0.0005002 , 0.0005008 , 0.00045856,\n",
       "        0.00048748, 0.00046037, 0.00049438, 0.00050374, 0.0003994 ,\n",
       "        0.00039997, 0.00048986, 0.00045971, 0.00039992, 0.00050028,\n",
       "        0.00048747, 0.00049947, 0.00048928, 0.00049018, 0.00049101,\n",
       "        0.00045809]),\n",
       " 'param_learning_rate': masked_array(data=[1e-16, 1e-16, 1e-16, 1e-16, 1e-16, 1e-16, 1e-16, 1e-16,\n",
       "                    1e-16, 1e-16, 1e-16, 1e-16, 0.5, 0.5, 0.5, 0.5, 0.5,\n",
       "                    0.5, 0.5, 0.5, 0.5, 0.5, 0.5, 0.5, 1.0, 1.0, 1.0, 1.0,\n",
       "                    1.0, 1.0, 1.0, 1.0, 1.0, 1.0, 1.0, 1.0],\n",
       "              mask=[False, False, False, False, False, False, False, False,\n",
       "                    False, False, False, False, False, False, False, False,\n",
       "                    False, False, False, False, False, False, False, False,\n",
       "                    False, False, False, False, False, False, False, False,\n",
       "                    False, False, False, False],\n",
       "        fill_value='?',\n",
       "             dtype=object),\n",
       " 'param_max_depth': masked_array(data=[1, 1, 1, 1, 2, 2, 2, 2, 3, 3, 3, 3, 1, 1, 1, 1, 2, 2,\n",
       "                    2, 2, 3, 3, 3, 3, 1, 1, 1, 1, 2, 2, 2, 2, 3, 3, 3, 3],\n",
       "              mask=[False, False, False, False, False, False, False, False,\n",
       "                    False, False, False, False, False, False, False, False,\n",
       "                    False, False, False, False, False, False, False, False,\n",
       "                    False, False, False, False, False, False, False, False,\n",
       "                    False, False, False, False],\n",
       "        fill_value='?',\n",
       "             dtype=object),\n",
       " 'param_n_estimators': masked_array(data=[5, 10, 25, 50, 5, 10, 25, 50, 5, 10, 25, 50, 5, 10, 25,\n",
       "                    50, 5, 10, 25, 50, 5, 10, 25, 50, 5, 10, 25, 50, 5, 10,\n",
       "                    25, 50, 5, 10, 25, 50],\n",
       "              mask=[False, False, False, False, False, False, False, False,\n",
       "                    False, False, False, False, False, False, False, False,\n",
       "                    False, False, False, False, False, False, False, False,\n",
       "                    False, False, False, False, False, False, False, False,\n",
       "                    False, False, False, False],\n",
       "        fill_value='?',\n",
       "             dtype=object),\n",
       " 'params': [{'learning_rate': 1e-16, 'max_depth': 1, 'n_estimators': 5},\n",
       "  {'learning_rate': 1e-16, 'max_depth': 1, 'n_estimators': 10},\n",
       "  {'learning_rate': 1e-16, 'max_depth': 1, 'n_estimators': 25},\n",
       "  {'learning_rate': 1e-16, 'max_depth': 1, 'n_estimators': 50},\n",
       "  {'learning_rate': 1e-16, 'max_depth': 2, 'n_estimators': 5},\n",
       "  {'learning_rate': 1e-16, 'max_depth': 2, 'n_estimators': 10},\n",
       "  {'learning_rate': 1e-16, 'max_depth': 2, 'n_estimators': 25},\n",
       "  {'learning_rate': 1e-16, 'max_depth': 2, 'n_estimators': 50},\n",
       "  {'learning_rate': 1e-16, 'max_depth': 3, 'n_estimators': 5},\n",
       "  {'learning_rate': 1e-16, 'max_depth': 3, 'n_estimators': 10},\n",
       "  {'learning_rate': 1e-16, 'max_depth': 3, 'n_estimators': 25},\n",
       "  {'learning_rate': 1e-16, 'max_depth': 3, 'n_estimators': 50},\n",
       "  {'learning_rate': 0.5, 'max_depth': 1, 'n_estimators': 5},\n",
       "  {'learning_rate': 0.5, 'max_depth': 1, 'n_estimators': 10},\n",
       "  {'learning_rate': 0.5, 'max_depth': 1, 'n_estimators': 25},\n",
       "  {'learning_rate': 0.5, 'max_depth': 1, 'n_estimators': 50},\n",
       "  {'learning_rate': 0.5, 'max_depth': 2, 'n_estimators': 5},\n",
       "  {'learning_rate': 0.5, 'max_depth': 2, 'n_estimators': 10},\n",
       "  {'learning_rate': 0.5, 'max_depth': 2, 'n_estimators': 25},\n",
       "  {'learning_rate': 0.5, 'max_depth': 2, 'n_estimators': 50},\n",
       "  {'learning_rate': 0.5, 'max_depth': 3, 'n_estimators': 5},\n",
       "  {'learning_rate': 0.5, 'max_depth': 3, 'n_estimators': 10},\n",
       "  {'learning_rate': 0.5, 'max_depth': 3, 'n_estimators': 25},\n",
       "  {'learning_rate': 0.5, 'max_depth': 3, 'n_estimators': 50},\n",
       "  {'learning_rate': 1.0, 'max_depth': 1, 'n_estimators': 5},\n",
       "  {'learning_rate': 1.0, 'max_depth': 1, 'n_estimators': 10},\n",
       "  {'learning_rate': 1.0, 'max_depth': 1, 'n_estimators': 25},\n",
       "  {'learning_rate': 1.0, 'max_depth': 1, 'n_estimators': 50},\n",
       "  {'learning_rate': 1.0, 'max_depth': 2, 'n_estimators': 5},\n",
       "  {'learning_rate': 1.0, 'max_depth': 2, 'n_estimators': 10},\n",
       "  {'learning_rate': 1.0, 'max_depth': 2, 'n_estimators': 25},\n",
       "  {'learning_rate': 1.0, 'max_depth': 2, 'n_estimators': 50},\n",
       "  {'learning_rate': 1.0, 'max_depth': 3, 'n_estimators': 5},\n",
       "  {'learning_rate': 1.0, 'max_depth': 3, 'n_estimators': 10},\n",
       "  {'learning_rate': 1.0, 'max_depth': 3, 'n_estimators': 25},\n",
       "  {'learning_rate': 1.0, 'max_depth': 3, 'n_estimators': 50}],\n",
       " 'split0_test_score': array([0.5 , 0.5 , 0.5 , 0.5 , 0.5 , 0.5 , 0.5 , 0.5 , 0.5 , 0.5 , 0.5 ,\n",
       "        0.5 , 0.77, 0.78, 0.8 , 0.8 , 0.82, 0.84, 0.86, 0.86, 0.86, 0.85,\n",
       "        0.89, 0.9 , 0.76, 0.79, 0.76, 0.79, 0.84, 0.82, 0.82, 0.81, 0.86,\n",
       "        0.84, 0.85, 0.88]),\n",
       " 'split1_test_score': array([0.5 , 0.5 , 0.5 , 0.5 , 0.5 , 0.5 , 0.5 , 0.5 , 0.5 , 0.5 , 0.5 ,\n",
       "        0.5 , 0.89, 0.92, 0.96, 0.94, 0.94, 0.92, 0.96, 0.95, 0.95, 0.96,\n",
       "        0.94, 0.96, 0.82, 0.9 , 0.91, 0.89, 0.91, 0.95, 0.94, 0.94, 0.94,\n",
       "        0.94, 0.94, 0.95]),\n",
       " 'split2_test_score': array([0.5 , 0.5 , 0.5 , 0.5 , 0.5 , 0.5 , 0.5 , 0.5 , 0.5 , 0.5 , 0.5 ,\n",
       "        0.5 , 0.72, 0.73, 0.73, 0.72, 0.75, 0.77, 0.83, 0.81, 0.78, 0.82,\n",
       "        0.84, 0.87, 0.69, 0.74, 0.78, 0.76, 0.73, 0.81, 0.77, 0.79, 0.84,\n",
       "        0.8 , 0.8 , 0.8 ]),\n",
       " 'split3_test_score': array([0.5 , 0.5 , 0.5 , 0.5 , 0.5 , 0.5 , 0.5 , 0.5 , 0.5 , 0.5 , 0.5 ,\n",
       "        0.5 , 0.73, 0.72, 0.78, 0.79, 0.8 , 0.82, 0.81, 0.84, 0.82, 0.85,\n",
       "        0.84, 0.86, 0.76, 0.71, 0.77, 0.73, 0.76, 0.79, 0.8 , 0.84, 0.85,\n",
       "        0.84, 0.87, 0.84]),\n",
       " 'split4_test_score': array([0.5 , 0.5 , 0.5 , 0.5 , 0.5 , 0.5 , 0.5 , 0.5 , 0.5 , 0.5 , 0.5 ,\n",
       "        0.5 , 0.71, 0.78, 0.78, 0.81, 0.82, 0.86, 0.85, 0.84, 0.86, 0.88,\n",
       "        0.87, 0.87, 0.71, 0.81, 0.76, 0.82, 0.82, 0.83, 0.86, 0.86, 0.88,\n",
       "        0.89, 0.94, 0.95]),\n",
       " 'split5_test_score': array([0.5 , 0.5 , 0.5 , 0.5 , 0.5 , 0.5 , 0.5 , 0.5 , 0.5 , 0.5 , 0.5 ,\n",
       "        0.5 , 0.81, 0.8 , 0.85, 0.82, 0.79, 0.87, 0.86, 0.86, 0.86, 0.88,\n",
       "        0.92, 0.93, 0.71, 0.84, 0.83, 0.85, 0.87, 0.85, 0.81, 0.9 , 0.9 ,\n",
       "        0.91, 0.92, 0.93]),\n",
       " 'split6_test_score': array([0.5 , 0.5 , 0.5 , 0.5 , 0.5 , 0.5 , 0.5 , 0.5 , 0.5 , 0.5 , 0.5 ,\n",
       "        0.5 , 0.77, 0.78, 0.8 , 0.84, 0.82, 0.84, 0.86, 0.87, 0.83, 0.88,\n",
       "        0.9 , 0.89, 0.77, 0.82, 0.81, 0.81, 0.86, 0.82, 0.82, 0.83, 0.91,\n",
       "        0.88, 0.9 , 0.92]),\n",
       " 'split7_test_score': array([0.5 , 0.5 , 0.5 , 0.5 , 0.5 , 0.5 , 0.5 , 0.5 , 0.5 , 0.5 , 0.5 ,\n",
       "        0.5 , 0.74, 0.73, 0.79, 0.81, 0.79, 0.8 , 0.8 , 0.83, 0.81, 0.84,\n",
       "        0.85, 0.86, 0.77, 0.75, 0.75, 0.77, 0.78, 0.76, 0.77, 0.79, 0.82,\n",
       "        0.8 , 0.84, 0.86]),\n",
       " 'split8_test_score': array([0.5 , 0.5 , 0.5 , 0.5 , 0.5 , 0.5 , 0.5 , 0.5 , 0.5 , 0.5 , 0.5 ,\n",
       "        0.5 , 0.84, 0.84, 0.87, 0.9 , 0.83, 0.89, 0.89, 0.93, 0.9 , 0.91,\n",
       "        0.92, 0.93, 0.84, 0.84, 0.88, 0.87, 0.85, 0.87, 0.9 , 0.89, 0.91,\n",
       "        0.9 , 0.93, 0.94]),\n",
       " 'split9_test_score': array([0.51, 0.51, 0.51, 0.51, 0.51, 0.51, 0.51, 0.51, 0.51, 0.51, 0.51,\n",
       "        0.51, 0.81, 0.79, 0.81, 0.83, 0.84, 0.87, 0.92, 0.9 , 0.85, 0.85,\n",
       "        0.9 , 0.93, 0.73, 0.83, 0.83, 0.83, 0.86, 0.87, 0.88, 0.83, 0.9 ,\n",
       "        0.9 , 0.89, 0.9 ]),\n",
       " 'mean_test_score': array([0.501, 0.501, 0.501, 0.501, 0.501, 0.501, 0.501, 0.501, 0.501,\n",
       "        0.501, 0.501, 0.501, 0.779, 0.787, 0.817, 0.826, 0.82 , 0.848,\n",
       "        0.864, 0.869, 0.852, 0.872, 0.887, 0.9  , 0.756, 0.803, 0.808,\n",
       "        0.812, 0.828, 0.837, 0.837, 0.848, 0.881, 0.87 , 0.888, 0.897]),\n",
       " 'std_test_score': array([0.003     , 0.003     , 0.003     , 0.003     , 0.003     ,\n",
       "        0.003     , 0.003     , 0.003     , 0.003     , 0.003     ,\n",
       "        0.003     , 0.003     , 0.05503635, 0.05640035, 0.06000833,\n",
       "        0.05695612, 0.04690416, 0.04166533, 0.04630335, 0.04253234,\n",
       "        0.04534314, 0.03815757, 0.03377869, 0.03376389, 0.04565085,\n",
       "        0.05367495, 0.05173007, 0.04791659, 0.05268776, 0.04960847,\n",
       "        0.05348832, 0.0468615 , 0.03562303, 0.04516636, 0.04489989,\n",
       "        0.04838388]),\n",
       " 'rank_test_score': array([25, 25, 25, 25, 25, 25, 25, 25, 25, 25, 25, 25, 23, 22, 18, 16, 17,\n",
       "        11,  9,  8, 10,  6,  4,  1, 24, 21, 20, 19, 15, 14, 13, 11,  5,  7,\n",
       "         3,  2])}"
      ]
     },
     "execution_count": 76,
     "metadata": {},
     "output_type": "execute_result"
    }
   ],
   "source": [
    "#  the largeer n_estimators, the accuracy is higher.\n",
    "bst_grid.cv_results_"
   ]
  },
  {
   "cell_type": "code",
   "execution_count": 77,
   "metadata": {},
   "outputs": [
    {
     "name": "stdout",
     "output_type": "stream",
     "text": [
      "Best accuracy obtained: 0.9\n",
      "Parameters:\n",
      "\tlearning_rate: 0.5\n",
      "\tmax_depth: 3\n",
      "\tn_estimators: 50\n"
     ]
    }
   ],
   "source": [
    "print(\"Best accuracy obtained: {0}\".format(bst_grid.best_score_))\n",
    "print(\"Parameters:\")\n",
    "for key, value in bst_grid.best_params_.items():\n",
    "    print(\"\\t{}: {}\".format(key, value))"
   ]
  },
  {
   "cell_type": "markdown",
   "metadata": {},
   "source": [
    "### Randomized Grid-Search<a name='rgrid' />"
   ]
  },
  {
   "cell_type": "code",
   "execution_count": 78,
   "metadata": {},
   "outputs": [],
   "source": [
    "# Create a parameters distribution dictionary:\n",
    "params_dist_grid = {\n",
    "    'max_depth': [1, 2, 3, 4],\n",
    "    'gamma': [0, 0.5, 1],\n",
    "    'n_estimators': randint(1, 1001), # uniform discrete random distribution\n",
    "    'learning_rate': uniform(), # gaussian distribution\n",
    "    'subsample': uniform(), # gaussian distribution\n",
    "    'colsample_bytree': uniform() # gaussian distribution\n",
    "}"
   ]
  },
  {
   "cell_type": "code",
   "execution_count": 79,
   "metadata": {},
   "outputs": [],
   "source": [
    "rs_grid = RandomizedSearchCV(\n",
    "    estimator=XGBClassifier(**params_fixed, seed=seed),\n",
    "    param_distributions=params_dist_grid,\n",
    "    n_iter=10,\n",
    "    cv=cv,\n",
    "    scoring='accuracy',\n",
    "    random_state=seed\n",
    ")"
   ]
  },
  {
   "cell_type": "code",
   "execution_count": 80,
   "metadata": {},
   "outputs": [
    {
     "data": {
      "text/plain": [
       "RandomizedSearchCV(cv=StratifiedKFold(n_splits=10, random_state=123, shuffle=True),\n",
       "                   error_score=nan,\n",
       "                   estimator=XGBClassifier(base_score=0.5, booster='gbtree',\n",
       "                                           colsample_bylevel=1,\n",
       "                                           colsample_bynode=1,\n",
       "                                           colsample_bytree=1, gamma=0,\n",
       "                                           learning_rate=0.1, max_delta_step=0,\n",
       "                                           max_depth=3, min_child_weight=1,\n",
       "                                           missing=None, n_estimators=100,\n",
       "                                           n_jobs=1, nthread=None,\n",
       "                                           objective='bi...\n",
       "                                        'learning_rate': <scipy.stats._distn_infrastructure.rv_frozen object at 0x00000212073D58C8>,\n",
       "                                        'max_depth': [1, 2, 3, 4],\n",
       "                                        'n_estimators': <scipy.stats._distn_infrastructure.rv_frozen object at 0x0000021207328B88>,\n",
       "                                        'subsample': <scipy.stats._distn_infrastructure.rv_frozen object at 0x000002120735E3C8>},\n",
       "                   pre_dispatch='2*n_jobs', random_state=123, refit=True,\n",
       "                   return_train_score=False, scoring='accuracy', verbose=0)"
      ]
     },
     "execution_count": 80,
     "metadata": {},
     "output_type": "execute_result"
    }
   ],
   "source": [
    "#Fit the classifier:\n",
    "rs_grid.fit(X, y)"
   ]
  },
  {
   "cell_type": "code",
   "execution_count": 82,
   "metadata": {},
   "outputs": [
    {
     "data": {
      "text/plain": [
       "{'mean_fit_time': array([0.62740214, 0.04001591, 0.13329654, 0.21680291, 0.09299185,\n",
       "        0.11390402, 0.06380067, 0.04379594, 0.18329577, 0.12789807]),\n",
       " 'std_fit_time': array([0.01708375, 0.00140078, 0.00394923, 0.00754065, 0.0019084 ,\n",
       "        0.00144171, 0.0006015 , 0.00039705, 0.0006395 , 0.00094316]),\n",
       " 'mean_score_time': array([0.00100226, 0.00048921, 0.00099995, 0.00140052, 0.00090663,\n",
       "        0.00079994, 0.00059991, 0.00100021, 0.00100319, 0.00090175]),\n",
       " 'std_score_time': array([2.98128110e-06, 4.89309958e-04, 1.62301423e-05, 4.89892815e-04,\n",
       "        3.02876289e-04, 3.99972472e-04, 4.89826451e-04, 1.66483786e-06,\n",
       "        9.28795677e-06, 3.00589589e-04]),\n",
       " 'param_colsample_bytree': masked_array(data=[0.6964691855978616, 0.49111893343259727,\n",
       "                    0.3921175181941505, 0.694755177185269,\n",
       "                    0.5315513738418384, 0.740296390734788,\n",
       "                    0.22826323087895561, 0.02798195504294898,\n",
       "                    0.4263513069628082, 0.5684306928188979],\n",
       "              mask=[False, False, False, False, False, False, False, False,\n",
       "                    False, False],\n",
       "        fill_value='?',\n",
       "             dtype=object),\n",
       " 'param_gamma': masked_array(data=[1, 0.5, 1, 0, 0, 0, 0.5, 1, 0.5, 1],\n",
       "              mask=[False, False, False, False, False, False, False, False,\n",
       "                    False, False],\n",
       "        fill_value='?',\n",
       "             dtype=object),\n",
       " 'param_learning_rate': masked_array(data=[0.4284709261868257, 0.9807641983846155,\n",
       "                    0.6273170093376167, 0.7379954057320357,\n",
       "                    0.4278634908378195, 0.7224433825702216,\n",
       "                    0.9879952865166672, 0.4936850976503062,\n",
       "                    0.6934032436025144, 0.3172854818203209],\n",
       "              mask=[False, False, False, False, False, False, False, False,\n",
       "                    False, False],\n",
       "        fill_value='?',\n",
       "             dtype=object),\n",
       " 'param_max_depth': masked_array(data=[3, 1, 2, 4, 2, 2, 4, 2, 1, 1],\n",
       "              mask=[False, False, False, False, False, False, False, False,\n",
       "                    False, False],\n",
       "        fill_value='?',\n",
       "             dtype=object),\n",
       " 'param_n_estimators': masked_array(data=[743, 114, 340, 452, 177, 214, 107, 147, 583, 360],\n",
       "              mask=[False, False, False, False, False, False, False, False,\n",
       "                    False, False],\n",
       "        fill_value='?',\n",
       "             dtype=object),\n",
       " 'param_subsample': masked_array(data=[0.719150310154773, 0.48093190148436094,\n",
       "                    0.24475927695391986, 0.17545175614749253,\n",
       "                    0.4920847767923423, 0.3617886556223141,\n",
       "                    0.7770044388897804, 0.3122612229724653,\n",
       "                    0.46426805573666796, 0.8663091578833659],\n",
       "              mask=[False, False, False, False, False, False, False, False,\n",
       "                    False, False],\n",
       "        fill_value='?',\n",
       "             dtype=object),\n",
       " 'params': [{'colsample_bytree': 0.6964691855978616,\n",
       "   'gamma': 1,\n",
       "   'learning_rate': 0.4284709261868257,\n",
       "   'max_depth': 3,\n",
       "   'n_estimators': 743,\n",
       "   'subsample': 0.719150310154773},\n",
       "  {'colsample_bytree': 0.49111893343259727,\n",
       "   'gamma': 0.5,\n",
       "   'learning_rate': 0.9807641983846155,\n",
       "   'max_depth': 1,\n",
       "   'n_estimators': 114,\n",
       "   'subsample': 0.48093190148436094},\n",
       "  {'colsample_bytree': 0.3921175181941505,\n",
       "   'gamma': 1,\n",
       "   'learning_rate': 0.6273170093376167,\n",
       "   'max_depth': 2,\n",
       "   'n_estimators': 340,\n",
       "   'subsample': 0.24475927695391986},\n",
       "  {'colsample_bytree': 0.694755177185269,\n",
       "   'gamma': 0,\n",
       "   'learning_rate': 0.7379954057320357,\n",
       "   'max_depth': 4,\n",
       "   'n_estimators': 452,\n",
       "   'subsample': 0.17545175614749253},\n",
       "  {'colsample_bytree': 0.5315513738418384,\n",
       "   'gamma': 0,\n",
       "   'learning_rate': 0.4278634908378195,\n",
       "   'max_depth': 2,\n",
       "   'n_estimators': 177,\n",
       "   'subsample': 0.4920847767923423},\n",
       "  {'colsample_bytree': 0.740296390734788,\n",
       "   'gamma': 0,\n",
       "   'learning_rate': 0.7224433825702216,\n",
       "   'max_depth': 2,\n",
       "   'n_estimators': 214,\n",
       "   'subsample': 0.3617886556223141},\n",
       "  {'colsample_bytree': 0.22826323087895561,\n",
       "   'gamma': 0.5,\n",
       "   'learning_rate': 0.9879952865166672,\n",
       "   'max_depth': 4,\n",
       "   'n_estimators': 107,\n",
       "   'subsample': 0.7770044388897804},\n",
       "  {'colsample_bytree': 0.02798195504294898,\n",
       "   'gamma': 1,\n",
       "   'learning_rate': 0.4936850976503062,\n",
       "   'max_depth': 2,\n",
       "   'n_estimators': 147,\n",
       "   'subsample': 0.3122612229724653},\n",
       "  {'colsample_bytree': 0.4263513069628082,\n",
       "   'gamma': 0.5,\n",
       "   'learning_rate': 0.6934032436025144,\n",
       "   'max_depth': 1,\n",
       "   'n_estimators': 583,\n",
       "   'subsample': 0.46426805573666796},\n",
       "  {'colsample_bytree': 0.5684306928188979,\n",
       "   'gamma': 1,\n",
       "   'learning_rate': 0.3172854818203209,\n",
       "   'max_depth': 1,\n",
       "   'n_estimators': 360,\n",
       "   'subsample': 0.8663091578833659}],\n",
       " 'split0_test_score': array([0.89, 0.74, 0.82, 0.77, 0.83, 0.85, 0.81, 0.67, 0.73, 0.79]),\n",
       " 'split1_test_score': array([0.92, 0.82, 0.89, 0.8 , 0.94, 0.88, 0.85, 0.8 , 0.87, 0.88]),\n",
       " 'split2_test_score': array([0.85, 0.75, 0.78, 0.76, 0.83, 0.83, 0.75, 0.71, 0.76, 0.78]),\n",
       " 'split3_test_score': array([0.86, 0.76, 0.79, 0.75, 0.84, 0.84, 0.78, 0.69, 0.74, 0.76]),\n",
       " 'split4_test_score': array([0.89, 0.77, 0.81, 0.79, 0.91, 0.84, 0.85, 0.77, 0.8 , 0.8 ]),\n",
       " 'split5_test_score': array([0.92, 0.82, 0.84, 0.81, 0.89, 0.86, 0.88, 0.74, 0.86, 0.86]),\n",
       " 'split6_test_score': array([0.91, 0.77, 0.85, 0.8 , 0.89, 0.9 , 0.75, 0.74, 0.78, 0.83]),\n",
       " 'split7_test_score': array([0.84, 0.8 , 0.77, 0.74, 0.86, 0.79, 0.79, 0.76, 0.79, 0.84]),\n",
       " 'split8_test_score': array([0.94, 0.81, 0.83, 0.74, 0.89, 0.87, 0.85, 0.76, 0.77, 0.87]),\n",
       " 'split9_test_score': array([0.89, 0.81, 0.89, 0.82, 0.93, 0.88, 0.76, 0.79, 0.78, 0.82]),\n",
       " 'mean_test_score': array([0.891, 0.785, 0.827, 0.778, 0.881, 0.854, 0.807, 0.743, 0.788,\n",
       "        0.823]),\n",
       " 'std_test_score': array([0.03112876, 0.02872281, 0.03976179, 0.02821347, 0.03780212,\n",
       "        0.02973214, 0.04539824, 0.0400125 , 0.04354308, 0.03822303]),\n",
       " 'rank_test_score': array([ 1,  8,  4,  9,  2,  3,  6, 10,  7,  5])}"
      ]
     },
     "execution_count": 82,
     "metadata": {},
     "output_type": "execute_result"
    }
   ],
   "source": [
    "rs_grid.cv_results_"
   ]
  },
  {
   "cell_type": "code",
   "execution_count": 83,
   "metadata": {},
   "outputs": [
    {
     "data": {
      "text/plain": [
       "XGBClassifier(base_score=0.5, booster='gbtree', colsample_bylevel=1,\n",
       "              colsample_bynode=1, colsample_bytree=0.6964691855978616, gamma=1,\n",
       "              learning_rate=0.4284709261868257, max_delta_step=0, max_depth=3,\n",
       "              min_child_weight=1, missing=None, n_estimators=743, n_jobs=1,\n",
       "              nthread=None, objective='binary:logistic', random_state=0,\n",
       "              reg_alpha=0, reg_lambda=1, scale_pos_weight=1, seed=123, silent=1,\n",
       "              subsample=0.719150310154773, verbosity=1)"
      ]
     },
     "execution_count": 83,
     "metadata": {},
     "output_type": "execute_result"
    }
   ],
   "source": [
    "# analyze best estimator, parameters and obtained score:\n",
    "rs_grid.best_estimator_"
   ]
  },
  {
   "cell_type": "code",
   "execution_count": 84,
   "metadata": {},
   "outputs": [
    {
     "data": {
      "text/plain": [
       "XGBClassifier(base_score=0.5, booster='gbtree', colsample_bylevel=1,\n",
       "              colsample_bynode=1, colsample_bytree=0.6964691855978616, gamma=1,\n",
       "              learning_rate=0.4284709261868257, max_delta_step=0, max_depth=3,\n",
       "              min_child_weight=1, missing=None, n_estimators=743, n_jobs=1,\n",
       "              nthread=None, objective='binary:logistic', random_state=0,\n",
       "              reg_alpha=0, reg_lambda=1, scale_pos_weight=1, seed=123, silent=1,\n",
       "              subsample=0.719150310154773, verbosity=1)"
      ]
     },
     "execution_count": 84,
     "metadata": {},
     "output_type": "execute_result"
    }
   ],
   "source": [
    "rs_grid.best_estimator_"
   ]
  },
  {
   "cell_type": "code",
   "execution_count": 85,
   "metadata": {},
   "outputs": [
    {
     "data": {
      "text/plain": [
       "0.891"
      ]
     },
     "execution_count": 85,
     "metadata": {},
     "output_type": "execute_result"
    }
   ],
   "source": [
    "rs_grid.best_score_"
   ]
  },
  {
   "cell_type": "markdown",
   "metadata": {},
   "source": [
    "# Evaluate results"
   ]
  },
  {
   "cell_type": "code",
   "execution_count": 86,
   "metadata": {},
   "outputs": [],
   "source": [
    "from pprint import pprint"
   ]
  },
  {
   "cell_type": "code",
   "execution_count": 87,
   "metadata": {},
   "outputs": [],
   "source": [
    "# specify general training parameters\n",
    "params = {\n",
    "    'objective':'binary:logistic',\n",
    "    'max_depth':1,\n",
    "    'silent':1,\n",
    "    'eta':0.5\n",
    "}\n",
    "\n",
    "num_rounds = 5\n",
    "\n"
   ]
  },
  {
   "cell_type": "code",
   "execution_count": 88,
   "metadata": {},
   "outputs": [],
   "source": [
    "watchlist  = [(dtest,'test'), (dtrain,'train')]"
   ]
  },
  {
   "cell_type": "code",
   "execution_count": 89,
   "metadata": {},
   "outputs": [
    {
     "name": "stdout",
     "output_type": "stream",
     "text": [
      "[0]\ttest-error:0.11049\ttrain-error:0.113926\n",
      "[1]\ttest-error:0.11049\ttrain-error:0.113926\n",
      "[2]\ttest-error:0.03352\ttrain-error:0.030401\n",
      "[3]\ttest-error:0.027312\ttrain-error:0.021495\n",
      "[4]\ttest-error:0.031037\ttrain-error:0.025487\n"
     ]
    }
   ],
   "source": [
    "bst = xgb.train(params, dtrain, num_rounds, watchlist)"
   ]
  },
  {
   "cell_type": "code",
   "execution_count": 90,
   "metadata": {},
   "outputs": [
    {
     "name": "stdout",
     "output_type": "stream",
     "text": [
      "[0]\ttest-logloss:0.457893\ttrain-logloss:0.460117\n",
      "[1]\ttest-logloss:0.383914\ttrain-logloss:0.378727\n",
      "[2]\ttest-logloss:0.312679\ttrain-logloss:0.308074\n",
      "[3]\ttest-logloss:0.269116\ttrain-logloss:0.261396\n",
      "[4]\ttest-logloss:0.239746\ttrain-logloss:0.232171\n"
     ]
    }
   ],
   "source": [
    "params['eval_metric'] = 'logloss'\n",
    "bst = xgb.train(params, dtrain, num_rounds, watchlist)"
   ]
  },
  {
   "cell_type": "markdown",
   "metadata": {},
   "source": [
    "### Creating custom evaluation metric<a name='cmetrics' />"
   ]
  },
  {
   "cell_type": "code",
   "execution_count": 91,
   "metadata": {},
   "outputs": [],
   "source": [
    "# custom evaluation metric\n",
    "def misclassified(pred_probs, dtrain):\n",
    "    labels = dtrain.get_label() # obtain true labels\n",
    "    preds = pred_probs > 0.5 # obtain predicted values\n",
    "    return 'misclassified', np.sum(labels != preds)"
   ]
  },
  {
   "cell_type": "code",
   "execution_count": 92,
   "metadata": {},
   "outputs": [
    {
     "name": "stdout",
     "output_type": "stream",
     "text": [
      "[0]\ttest-logloss:0.457893\ttrain-logloss:0.460117\ttest-misclassified:178\ttrain-misclassified:742\n",
      "[1]\ttest-logloss:0.383914\ttrain-logloss:0.378727\ttest-misclassified:178\ttrain-misclassified:742\n",
      "[2]\ttest-logloss:0.312679\ttrain-logloss:0.308074\ttest-misclassified:54\ttrain-misclassified:198\n",
      "[3]\ttest-logloss:0.269116\ttrain-logloss:0.261396\ttest-misclassified:44\ttrain-misclassified:140\n",
      "[4]\ttest-logloss:0.239746\ttrain-logloss:0.232171\ttest-misclassified:50\ttrain-misclassified:166\n"
     ]
    }
   ],
   "source": [
    "bst = xgb.train(params, dtrain, num_rounds, watchlist, feval=misclassified, maximize=False)"
   ]
  },
  {
   "cell_type": "markdown",
   "metadata": {},
   "source": [
    "### Extracting the evaluation results"
   ]
  },
  {
   "cell_type": "code",
   "execution_count": 93,
   "metadata": {},
   "outputs": [
    {
     "name": "stdout",
     "output_type": "stream",
     "text": [
      "[0]\ttest-logloss:0.457893\ttrain-logloss:0.460117\ttest-misclassified:178\ttrain-misclassified:742\n",
      "[1]\ttest-logloss:0.383914\ttrain-logloss:0.378727\ttest-misclassified:178\ttrain-misclassified:742\n",
      "[2]\ttest-logloss:0.312679\ttrain-logloss:0.308074\ttest-misclassified:54\ttrain-misclassified:198\n",
      "[3]\ttest-logloss:0.269116\ttrain-logloss:0.261396\ttest-misclassified:44\ttrain-misclassified:140\n",
      "[4]\ttest-logloss:0.239746\ttrain-logloss:0.232171\ttest-misclassified:50\ttrain-misclassified:166\n"
     ]
    }
   ],
   "source": [
    "evals_result = {}\n",
    "bst = xgb.train(params, dtrain, num_rounds, watchlist, feval=misclassified, maximize=False, evals_result=evals_result)"
   ]
  },
  {
   "cell_type": "code",
   "execution_count": 94,
   "metadata": {},
   "outputs": [
    {
     "name": "stdout",
     "output_type": "stream",
     "text": [
      "{'test': {'logloss': [0.457893, 0.383914, 0.312679, 0.269116, 0.239746],\n",
      "          'misclassified': [178.0, 178.0, 54.0, 44.0, 50.0]},\n",
      " 'train': {'logloss': [0.460117, 0.378727, 0.308074, 0.261396, 0.232171],\n",
      "           'misclassified': [742.0, 742.0, 198.0, 140.0, 166.0]}}\n"
     ]
    }
   ],
   "source": [
    "pprint(evals_result)"
   ]
  },
  {
   "cell_type": "code",
   "execution_count": 95,
   "metadata": {},
   "outputs": [
    {
     "name": "stdout",
     "output_type": "stream",
     "text": [
      "[0]\ttest-error:0.11049\ttrain-error:0.113926\n",
      "Multiple eval metrics have been passed: 'train-error' will be used for early stopping.\n",
      "\n",
      "Will train until train-error hasn't improved in 10 rounds.\n",
      "[1]\ttest-error:0.11049\ttrain-error:0.113926\n",
      "[2]\ttest-error:0.03352\ttrain-error:0.030401\n",
      "[3]\ttest-error:0.027312\ttrain-error:0.021495\n",
      "[4]\ttest-error:0.031037\ttrain-error:0.025487\n",
      "[5]\ttest-error:0.019243\ttrain-error:0.01735\n",
      "[6]\ttest-error:0.019243\ttrain-error:0.01735\n",
      "[7]\ttest-error:0.015518\ttrain-error:0.013358\n",
      "[8]\ttest-error:0.015518\ttrain-error:0.013358\n",
      "[9]\ttest-error:0.009311\ttrain-error:0.007523\n",
      "[10]\ttest-error:0.015518\ttrain-error:0.013358\n",
      "[11]\ttest-error:0.019243\ttrain-error:0.01735\n",
      "[12]\ttest-error:0.009311\ttrain-error:0.007523\n",
      "[13]\ttest-error:0.001862\ttrain-error:0.001996\n",
      "[14]\ttest-error:0.005587\ttrain-error:0.005988\n",
      "[15]\ttest-error:0.005587\ttrain-error:0.005988\n",
      "[16]\ttest-error:0.005587\ttrain-error:0.005988\n",
      "[17]\ttest-error:0.005587\ttrain-error:0.005988\n",
      "[18]\ttest-error:0.005587\ttrain-error:0.005988\n",
      "[19]\ttest-error:0.005587\ttrain-error:0.005988\n",
      "[20]\ttest-error:0.005587\ttrain-error:0.005988\n",
      "[21]\ttest-error:0.005587\ttrain-error:0.005988\n",
      "[22]\ttest-error:0.001862\ttrain-error:0.001996\n",
      "[23]\ttest-error:0.001862\ttrain-error:0.001996\n",
      "Stopping. Best iteration:\n",
      "[13]\ttest-error:0.001862\ttrain-error:0.001996\n",
      "\n"
     ]
    }
   ],
   "source": [
    "params['eval_metric'] = 'error'\n",
    "num_rounds = 1500\n",
    "\n",
    "bst = xgb.train(params, dtrain, num_rounds, watchlist, early_stopping_rounds=10)"
   ]
  },
  {
   "cell_type": "code",
   "execution_count": 96,
   "metadata": {},
   "outputs": [
    {
     "name": "stdout",
     "output_type": "stream",
     "text": [
      "Booster best train score: 0.001996\n",
      "Booster best iteration: 13\n",
      "Booster best number of trees limit: 14\n"
     ]
    }
   ],
   "source": [
    "print(\"Booster best train score: {}\".format(bst.best_score))\n",
    "print(\"Booster best iteration: {}\".format(bst.best_iteration))\n",
    "print(\"Booster best number of trees limit: {}\".format(bst.best_ntree_limit))"
   ]
  },
  {
   "cell_type": "markdown",
   "metadata": {},
   "source": [
    "### Cross validating results<a name='cv' />"
   ]
  },
  {
   "cell_type": "code",
   "execution_count": 97,
   "metadata": {},
   "outputs": [
    {
     "data": {
      "text/html": [
       "<div>\n",
       "<style scoped>\n",
       "    .dataframe tbody tr th:only-of-type {\n",
       "        vertical-align: middle;\n",
       "    }\n",
       "\n",
       "    .dataframe tbody tr th {\n",
       "        vertical-align: top;\n",
       "    }\n",
       "\n",
       "    .dataframe thead th {\n",
       "        text-align: right;\n",
       "    }\n",
       "</style>\n",
       "<table border=\"1\" class=\"dataframe\">\n",
       "  <thead>\n",
       "    <tr style=\"text-align: right;\">\n",
       "      <th></th>\n",
       "      <th>train-error-mean</th>\n",
       "      <th>train-error-std</th>\n",
       "      <th>test-error-mean</th>\n",
       "      <th>test-error-std</th>\n",
       "    </tr>\n",
       "  </thead>\n",
       "  <tbody>\n",
       "    <tr>\n",
       "      <th>0</th>\n",
       "      <td>0.113926</td>\n",
       "      <td>0.001479</td>\n",
       "      <td>0.113924</td>\n",
       "      <td>0.013314</td>\n",
       "    </tr>\n",
       "    <tr>\n",
       "      <th>1</th>\n",
       "      <td>0.113926</td>\n",
       "      <td>0.001479</td>\n",
       "      <td>0.113924</td>\n",
       "      <td>0.013314</td>\n",
       "    </tr>\n",
       "    <tr>\n",
       "      <th>2</th>\n",
       "      <td>0.030401</td>\n",
       "      <td>0.000633</td>\n",
       "      <td>0.030401</td>\n",
       "      <td>0.005700</td>\n",
       "    </tr>\n",
       "    <tr>\n",
       "      <th>3</th>\n",
       "      <td>0.021496</td>\n",
       "      <td>0.000586</td>\n",
       "      <td>0.021495</td>\n",
       "      <td>0.005275</td>\n",
       "    </tr>\n",
       "    <tr>\n",
       "      <th>4</th>\n",
       "      <td>0.025488</td>\n",
       "      <td>0.000606</td>\n",
       "      <td>0.025487</td>\n",
       "      <td>0.005459</td>\n",
       "    </tr>\n",
       "    <tr>\n",
       "      <th>5</th>\n",
       "      <td>0.019687</td>\n",
       "      <td>0.003490</td>\n",
       "      <td>0.020728</td>\n",
       "      <td>0.007625</td>\n",
       "    </tr>\n",
       "    <tr>\n",
       "      <th>6</th>\n",
       "      <td>0.017350</td>\n",
       "      <td>0.000374</td>\n",
       "      <td>0.017350</td>\n",
       "      <td>0.003366</td>\n",
       "    </tr>\n",
       "    <tr>\n",
       "      <th>7</th>\n",
       "      <td>0.014467</td>\n",
       "      <td>0.001922</td>\n",
       "      <td>0.015353</td>\n",
       "      <td>0.003696</td>\n",
       "    </tr>\n",
       "    <tr>\n",
       "      <th>8</th>\n",
       "      <td>0.013358</td>\n",
       "      <td>0.000418</td>\n",
       "      <td>0.013358</td>\n",
       "      <td>0.003764</td>\n",
       "    </tr>\n",
       "    <tr>\n",
       "      <th>9</th>\n",
       "      <td>0.011737</td>\n",
       "      <td>0.003818</td>\n",
       "      <td>0.012590</td>\n",
       "      <td>0.004698</td>\n",
       "    </tr>\n",
       "  </tbody>\n",
       "</table>\n",
       "</div>"
      ],
      "text/plain": [
       "   train-error-mean  train-error-std  test-error-mean  test-error-std\n",
       "0          0.113926         0.001479         0.113924        0.013314\n",
       "1          0.113926         0.001479         0.113924        0.013314\n",
       "2          0.030401         0.000633         0.030401        0.005700\n",
       "3          0.021496         0.000586         0.021495        0.005275\n",
       "4          0.025488         0.000606         0.025487        0.005459\n",
       "5          0.019687         0.003490         0.020728        0.007625\n",
       "6          0.017350         0.000374         0.017350        0.003366\n",
       "7          0.014467         0.001922         0.015353        0.003696\n",
       "8          0.013358         0.000418         0.013358        0.003764\n",
       "9          0.011737         0.003818         0.012590        0.004698"
      ]
     },
     "execution_count": 97,
     "metadata": {},
     "output_type": "execute_result"
    }
   ],
   "source": [
    "num_rounds = 10 # how many estimators\n",
    "hist = xgb.cv(params, dtrain, num_rounds, nfold=10, metrics={'error'}, seed=seed)\n",
    "hist"
   ]
  },
  {
   "cell_type": "markdown",
   "metadata": {},
   "source": [
    "# Deal with missing values\n"
   ]
  },
  {
   "cell_type": "code",
   "execution_count": 100,
   "metadata": {},
   "outputs": [
    {
     "data": {
      "text/plain": [
       "array([[0.69646919, 0.28613933, 0.22685145, 0.55131477, 0.71946897],\n",
       "       [0.42310646, 0.9807642 , 0.68482974, 0.4809319 , 0.39211752],\n",
       "       [0.34317802, 0.72904971, 0.43857224, 0.0596779 , 0.39804426],\n",
       "       [0.73799541, 0.18249173, 0.17545176, 0.53155137, 0.53182759],\n",
       "       [0.63440096, 0.84943179, 0.72445532, 0.61102351, 0.72244338],\n",
       "       [0.32295891, 0.36178866, 0.22826323, 0.29371405, 0.63097612],\n",
       "       [0.09210494, 0.43370117, 0.43086276, 0.4936851 , 0.42583029],\n",
       "       [0.31226122, 0.42635131, 0.89338916, 0.94416002, 0.50183668],\n",
       "       [0.62395295, 0.1156184 , 0.31728548, 0.41482621, 0.86630916],\n",
       "       [0.25045537, 0.48303426, 0.98555979, 0.51948512, 0.61289453]])"
      ]
     },
     "execution_count": 100,
     "metadata": {},
     "output_type": "execute_result"
    }
   ],
   "source": [
    "from sklearn.model_selection import cross_val_score\n",
    "\n",
    "# create valid dataset\n",
    "np.random.seed(seed)\n",
    "\n",
    "data_v = np.random.rand(10,5) # 10 entities, each contains 5 features\n",
    "data_v"
   ]
  },
  {
   "cell_type": "code",
   "execution_count": 101,
   "metadata": {},
   "outputs": [
    {
     "data": {
      "text/plain": [
       "array([[0.69646919,        nan,        nan, 0.55131477, 0.71946897],\n",
       "       [       nan, 0.9807642 , 0.68482974, 0.4809319 , 0.39211752],\n",
       "       [0.34317802, 0.72904971, 0.43857224,        nan, 0.39804426],\n",
       "       [0.73799541, 0.18249173, 0.17545176, 0.53155137, 0.53182759],\n",
       "       [0.63440096, 0.84943179, 0.72445532, 0.61102351,        nan],\n",
       "       [0.32295891, 0.36178866, 0.22826323, 0.29371405, 0.63097612],\n",
       "       [0.09210494, 0.43370117, 0.43086276, 0.4936851 , 0.42583029],\n",
       "       [0.31226122, 0.42635131,        nan, 0.94416002, 0.50183668],\n",
       "       [0.62395295, 0.1156184 , 0.31728548, 0.41482621, 0.86630916],\n",
       "       [0.25045537,        nan, 0.98555979, 0.51948512, 0.61289453]])"
      ]
     },
     "execution_count": 101,
     "metadata": {},
     "output_type": "execute_result"
    }
   ],
   "source": [
    "# add some missing values\n",
    "data_m = np.copy(data_v)\n",
    "\n",
    "data_m[2, 3] = np.nan\n",
    "data_m[0, 1] = np.nan\n",
    "data_m[0, 2] = np.nan\n",
    "data_m[1, 0] = np.nan\n",
    "data_m[4, 4] = np.nan\n",
    "data_m[7, 2] = np.nan\n",
    "data_m[9, 1] = np.nan\n",
    "\n",
    "data_m"
   ]
  },
  {
   "cell_type": "code",
   "execution_count": 102,
   "metadata": {},
   "outputs": [
    {
     "data": {
      "text/plain": [
       "array([0, 1, 0, 0, 0, 0, 0, 1, 1, 0])"
      ]
     },
     "execution_count": 102,
     "metadata": {},
     "output_type": "execute_result"
    }
   ],
   "source": [
    "#generate target variables. \n",
    "#Each sample will be assigned to one of two classes\n",
    "np.random.seed(seed)\n",
    "\n",
    "label = np.random.randint(2, size=10) # binary target\n",
    "label"
   ]
  },
  {
   "cell_type": "code",
   "execution_count": 103,
   "metadata": {},
   "outputs": [],
   "source": [
    "# Native interface\n",
    "# specify general training parameters\n",
    "params = {\n",
    "    'objective':'binary:logistic',\n",
    "    'max_depth':1,\n",
    "    'silent':1,\n",
    "    'eta':0.5\n",
    "}\n",
    "\n",
    "num_rounds = 5"
   ]
  },
  {
   "cell_type": "code",
   "execution_count": 104,
   "metadata": {},
   "outputs": [],
   "source": [
    "dtrain_v = xgb.DMatrix(data_v, label=label)"
   ]
  },
  {
   "cell_type": "code",
   "execution_count": 105,
   "metadata": {},
   "outputs": [
    {
     "data": {
      "text/html": [
       "<div>\n",
       "<style scoped>\n",
       "    .dataframe tbody tr th:only-of-type {\n",
       "        vertical-align: middle;\n",
       "    }\n",
       "\n",
       "    .dataframe tbody tr th {\n",
       "        vertical-align: top;\n",
       "    }\n",
       "\n",
       "    .dataframe thead th {\n",
       "        text-align: right;\n",
       "    }\n",
       "</style>\n",
       "<table border=\"1\" class=\"dataframe\">\n",
       "  <thead>\n",
       "    <tr style=\"text-align: right;\">\n",
       "      <th></th>\n",
       "      <th>train-error-mean</th>\n",
       "      <th>train-error-std</th>\n",
       "      <th>test-error-mean</th>\n",
       "      <th>test-error-std</th>\n",
       "    </tr>\n",
       "  </thead>\n",
       "  <tbody>\n",
       "    <tr>\n",
       "      <th>0</th>\n",
       "      <td>0.301587</td>\n",
       "      <td>0.118783</td>\n",
       "      <td>0.305556</td>\n",
       "      <td>0.274986</td>\n",
       "    </tr>\n",
       "    <tr>\n",
       "      <th>1</th>\n",
       "      <td>0.301587</td>\n",
       "      <td>0.118783</td>\n",
       "      <td>0.305556</td>\n",
       "      <td>0.274986</td>\n",
       "    </tr>\n",
       "    <tr>\n",
       "      <th>2</th>\n",
       "      <td>0.301587</td>\n",
       "      <td>0.118783</td>\n",
       "      <td>0.305556</td>\n",
       "      <td>0.274986</td>\n",
       "    </tr>\n",
       "    <tr>\n",
       "      <th>3</th>\n",
       "      <td>0.301587</td>\n",
       "      <td>0.118783</td>\n",
       "      <td>0.305556</td>\n",
       "      <td>0.274986</td>\n",
       "    </tr>\n",
       "    <tr>\n",
       "      <th>4</th>\n",
       "      <td>0.301587</td>\n",
       "      <td>0.118783</td>\n",
       "      <td>0.305556</td>\n",
       "      <td>0.274986</td>\n",
       "    </tr>\n",
       "  </tbody>\n",
       "</table>\n",
       "</div>"
      ],
      "text/plain": [
       "   train-error-mean  train-error-std  test-error-mean  test-error-std\n",
       "0          0.301587         0.118783         0.305556        0.274986\n",
       "1          0.301587         0.118783         0.305556        0.274986\n",
       "2          0.301587         0.118783         0.305556        0.274986\n",
       "3          0.301587         0.118783         0.305556        0.274986\n",
       "4          0.301587         0.118783         0.305556        0.274986"
      ]
     },
     "execution_count": 105,
     "metadata": {},
     "output_type": "execute_result"
    }
   ],
   "source": [
    "xgb.cv(params, dtrain_v, num_rounds, seed=seed)"
   ]
  },
  {
   "cell_type": "code",
   "execution_count": 106,
   "metadata": {},
   "outputs": [],
   "source": [
    "dtrain_m = xgb.DMatrix(data_m, label=label, missing=np.nan)"
   ]
  },
  {
   "cell_type": "code",
   "execution_count": 107,
   "metadata": {},
   "outputs": [
    {
     "data": {
      "text/html": [
       "<div>\n",
       "<style scoped>\n",
       "    .dataframe tbody tr th:only-of-type {\n",
       "        vertical-align: middle;\n",
       "    }\n",
       "\n",
       "    .dataframe tbody tr th {\n",
       "        vertical-align: top;\n",
       "    }\n",
       "\n",
       "    .dataframe thead th {\n",
       "        text-align: right;\n",
       "    }\n",
       "</style>\n",
       "<table border=\"1\" class=\"dataframe\">\n",
       "  <thead>\n",
       "    <tr style=\"text-align: right;\">\n",
       "      <th></th>\n",
       "      <th>train-error-mean</th>\n",
       "      <th>train-error-std</th>\n",
       "      <th>test-error-mean</th>\n",
       "      <th>test-error-std</th>\n",
       "    </tr>\n",
       "  </thead>\n",
       "  <tbody>\n",
       "    <tr>\n",
       "      <th>0</th>\n",
       "      <td>0.301587</td>\n",
       "      <td>0.118783</td>\n",
       "      <td>0.305556</td>\n",
       "      <td>0.274986</td>\n",
       "    </tr>\n",
       "    <tr>\n",
       "      <th>1</th>\n",
       "      <td>0.301587</td>\n",
       "      <td>0.118783</td>\n",
       "      <td>0.305556</td>\n",
       "      <td>0.274986</td>\n",
       "    </tr>\n",
       "    <tr>\n",
       "      <th>2</th>\n",
       "      <td>0.301587</td>\n",
       "      <td>0.118783</td>\n",
       "      <td>0.305556</td>\n",
       "      <td>0.274986</td>\n",
       "    </tr>\n",
       "    <tr>\n",
       "      <th>3</th>\n",
       "      <td>0.301587</td>\n",
       "      <td>0.118783</td>\n",
       "      <td>0.305556</td>\n",
       "      <td>0.274986</td>\n",
       "    </tr>\n",
       "    <tr>\n",
       "      <th>4</th>\n",
       "      <td>0.301587</td>\n",
       "      <td>0.118783</td>\n",
       "      <td>0.305556</td>\n",
       "      <td>0.274986</td>\n",
       "    </tr>\n",
       "  </tbody>\n",
       "</table>\n",
       "</div>"
      ],
      "text/plain": [
       "   train-error-mean  train-error-std  test-error-mean  test-error-std\n",
       "0          0.301587         0.118783         0.305556        0.274986\n",
       "1          0.301587         0.118783         0.305556        0.274986\n",
       "2          0.301587         0.118783         0.305556        0.274986\n",
       "3          0.301587         0.118783         0.305556        0.274986\n",
       "4          0.301587         0.118783         0.305556        0.274986"
      ]
     },
     "execution_count": 107,
     "metadata": {},
     "output_type": "execute_result"
    }
   ],
   "source": [
    "xgb.cv(params, dtrain_m, num_rounds, seed=seed)"
   ]
  },
  {
   "cell_type": "code",
   "execution_count": 108,
   "metadata": {},
   "outputs": [],
   "source": [
    "# Sklearn wrapper\n",
    "#shows how to validate the same behaviour using Sklearn interface.\n",
    "params = {\n",
    "    'objective': 'binary:logistic',\n",
    "    'max_depth': 1,\n",
    "    'learning_rate': 0.5,\n",
    "    'silent': 1,\n",
    "    'n_estimators': 5\n",
    "}"
   ]
  },
  {
   "cell_type": "code",
   "execution_count": 109,
   "metadata": {},
   "outputs": [
    {
     "data": {
      "text/plain": [
       "XGBClassifier(base_score=0.5, booster='gbtree', colsample_bylevel=1,\n",
       "              colsample_bynode=1, colsample_bytree=1, gamma=0,\n",
       "              learning_rate=0.5, max_delta_step=0, max_depth=1,\n",
       "              min_child_weight=1, missing=None, n_estimators=5, n_jobs=1,\n",
       "              nthread=None, objective='binary:logistic', random_state=0,\n",
       "              reg_alpha=0, reg_lambda=1, scale_pos_weight=1, seed=None,\n",
       "              silent=1, subsample=1, verbosity=1)"
      ]
     },
     "execution_count": 109,
     "metadata": {},
     "output_type": "execute_result"
    }
   ],
   "source": [
    "clf = XGBClassifier(**params)\n",
    "clf"
   ]
  },
  {
   "cell_type": "code",
   "execution_count": 110,
   "metadata": {},
   "outputs": [
    {
     "data": {
      "text/plain": [
       "array([0.8, 0.6])"
      ]
     },
     "execution_count": 110,
     "metadata": {},
     "output_type": "execute_result"
    }
   ],
   "source": [
    "cross_val_score(clf, data_v, label, cv=2, scoring='accuracy')"
   ]
  },
  {
   "cell_type": "code",
   "execution_count": 111,
   "metadata": {},
   "outputs": [
    {
     "data": {
      "text/plain": [
       "array([0.8, 0.6])"
      ]
     },
     "execution_count": 111,
     "metadata": {},
     "output_type": "execute_result"
    }
   ],
   "source": [
    "cross_val_score(clf, data_m, label, cv=2, scoring='accuracy')"
   ]
  },
  {
   "cell_type": "markdown",
   "metadata": {},
   "source": [
    "# Handle Imbalanced Dataset"
   ]
  },
  {
   "cell_type": "code",
   "execution_count": 123,
   "metadata": {},
   "outputs": [],
   "source": [
    "from sklearn.datasets import make_classification\n",
    "from sklearn.metrics import precision_score\n",
    "from sklearn.metrics import accuracy_score \n",
    "from sklearn.metrics import recall_score"
   ]
  },
  {
   "cell_type": "code",
   "execution_count": 115,
   "metadata": {},
   "outputs": [
    {
     "name": "stdout",
     "output_type": "stream",
     "text": [
      "There are 20 positive instances.\n"
     ]
    }
   ],
   "source": [
    "# function to generate dataset for binary classification\n",
    "# there will be 200 samples each described by 5 features, but only 10% of them (about 20 samples) will be positive.\n",
    "X, y = make_classification(\n",
    "    n_samples=200,\n",
    "    n_features=5,\n",
    "    n_informative=3,\n",
    "    n_classes=2,\n",
    "    weights=[.9, .1],\n",
    "    shuffle=True,\n",
    "    random_state=seed\n",
    ")\n",
    "\n",
    "print('There are {} positive instances.'.format(y.sum()))"
   ]
  },
  {
   "cell_type": "code",
   "execution_count": 116,
   "metadata": {},
   "outputs": [
    {
     "name": "stdout",
     "output_type": "stream",
     "text": [
      "Total number of postivie train instances: 13\n",
      "Total number of positive test instances: 7\n"
     ]
    }
   ],
   "source": [
    "# Divide created data into train and test\n",
    "X_train, X_test, y_train, y_test = train_test_split(X, y, test_size=0.33, stratify=y, random_state=seed)\n",
    "\n",
    "print('Total number of postivie train instances: {}'.format(y_train.sum()))\n",
    "print('Total number of positive test instances: {}'.format(y_test.sum()))"
   ]
  },
  {
   "cell_type": "code",
   "execution_count": 117,
   "metadata": {},
   "outputs": [],
   "source": [
    "# Baseline Model\n",
    "dtrain = xgb.DMatrix(X_train, label=y_train)\n",
    "dtest = xgb.DMatrix(X_test)"
   ]
  },
  {
   "cell_type": "code",
   "execution_count": 118,
   "metadata": {},
   "outputs": [],
   "source": [
    "params = {\n",
    "    'objective':'binary:logistic',\n",
    "    'max_depth':1,\n",
    "    'silent':1,\n",
    "    'eta':1\n",
    "}\n",
    "\n",
    "num_rounds = 15"
   ]
  },
  {
   "cell_type": "code",
   "execution_count": 119,
   "metadata": {},
   "outputs": [],
   "source": [
    "# Train the booster and make predictions\n",
    "bst = xgb.train(params, dtrain, num_rounds)\n",
    "y_test_preds = (bst.predict(dtest) > 0.5).astype('int')"
   ]
  },
  {
   "cell_type": "code",
   "execution_count": 120,
   "metadata": {},
   "outputs": [
    {
     "data": {
      "text/html": [
       "<div>\n",
       "<style scoped>\n",
       "    .dataframe tbody tr th:only-of-type {\n",
       "        vertical-align: middle;\n",
       "    }\n",
       "\n",
       "    .dataframe tbody tr th {\n",
       "        vertical-align: top;\n",
       "    }\n",
       "\n",
       "    .dataframe thead th {\n",
       "        text-align: right;\n",
       "    }\n",
       "</style>\n",
       "<table border=\"1\" class=\"dataframe\">\n",
       "  <thead>\n",
       "    <tr style=\"text-align: right;\">\n",
       "      <th>Predicted</th>\n",
       "      <th>0</th>\n",
       "      <th>1</th>\n",
       "      <th>All</th>\n",
       "    </tr>\n",
       "    <tr>\n",
       "      <th>Actual</th>\n",
       "      <th></th>\n",
       "      <th></th>\n",
       "      <th></th>\n",
       "    </tr>\n",
       "  </thead>\n",
       "  <tbody>\n",
       "    <tr>\n",
       "      <th>0</th>\n",
       "      <td>58</td>\n",
       "      <td>1</td>\n",
       "      <td>59</td>\n",
       "    </tr>\n",
       "    <tr>\n",
       "      <th>1</th>\n",
       "      <td>5</td>\n",
       "      <td>2</td>\n",
       "      <td>7</td>\n",
       "    </tr>\n",
       "    <tr>\n",
       "      <th>All</th>\n",
       "      <td>63</td>\n",
       "      <td>3</td>\n",
       "      <td>66</td>\n",
       "    </tr>\n",
       "  </tbody>\n",
       "</table>\n",
       "</div>"
      ],
      "text/plain": [
       "Predicted   0  1  All\n",
       "Actual               \n",
       "0          58  1   59\n",
       "1           5  2    7\n",
       "All        63  3   66"
      ]
     },
     "execution_count": 120,
     "metadata": {},
     "output_type": "execute_result"
    }
   ],
   "source": [
    "# see the confusion matrix\n",
    "pd.crosstab(\n",
    "    pd.Series(y_test, name='Actual'),\n",
    "    pd.Series(y_test_preds, name='Predicted'),\n",
    "    margins=True\n",
    ")"
   ]
  },
  {
   "cell_type": "code",
   "execution_count": 124,
   "metadata": {},
   "outputs": [
    {
     "name": "stdout",
     "output_type": "stream",
     "text": [
      "Accuracy: 0.91\n",
      "Precision: 0.67\n",
      "Recall: 0.29\n"
     ]
    }
   ],
   "source": [
    "# present the performance using 3 different evaluation metrics\n",
    "print('Accuracy: {0:.2f}'.format(accuracy_score(y_test, y_test_preds)))\n",
    "print('Precision: {0:.2f}'.format(precision_score(y_test, y_test_preds)))\n",
    "print('Recall: {0:.2f}'.format(recall_score(y_test, y_test_preds)))"
   ]
  },
  {
   "cell_type": "code",
   "execution_count": 125,
   "metadata": {},
   "outputs": [],
   "source": [
    "weights = np.zeros(len(y_train))\n",
    "weights[y_train == 0] = 1\n",
    "weights[y_train == 1] = 5\n",
    "\n",
    "dtrain = xgb.DMatrix(X_train, label=y_train, weight=weights)\n",
    "dtest = xgb.DMatrix(X_test)"
   ]
  },
  {
   "cell_type": "code",
   "execution_count": 126,
   "metadata": {},
   "outputs": [],
   "source": [
    "#Train the classifier and get predictions (same as in baseline)\n",
    "bst = xgb.train(params, dtrain, num_rounds)\n",
    "y_test_preds = (bst.predict(dtest) > 0.5).astype('int')"
   ]
  },
  {
   "cell_type": "code",
   "execution_count": 127,
   "metadata": {},
   "outputs": [
    {
     "data": {
      "text/html": [
       "<div>\n",
       "<style scoped>\n",
       "    .dataframe tbody tr th:only-of-type {\n",
       "        vertical-align: middle;\n",
       "    }\n",
       "\n",
       "    .dataframe tbody tr th {\n",
       "        vertical-align: top;\n",
       "    }\n",
       "\n",
       "    .dataframe thead th {\n",
       "        text-align: right;\n",
       "    }\n",
       "</style>\n",
       "<table border=\"1\" class=\"dataframe\">\n",
       "  <thead>\n",
       "    <tr style=\"text-align: right;\">\n",
       "      <th>Predicted</th>\n",
       "      <th>0</th>\n",
       "      <th>1</th>\n",
       "      <th>All</th>\n",
       "    </tr>\n",
       "    <tr>\n",
       "      <th>Actual</th>\n",
       "      <th></th>\n",
       "      <th></th>\n",
       "      <th></th>\n",
       "    </tr>\n",
       "  </thead>\n",
       "  <tbody>\n",
       "    <tr>\n",
       "      <th>0</th>\n",
       "      <td>57</td>\n",
       "      <td>2</td>\n",
       "      <td>59</td>\n",
       "    </tr>\n",
       "    <tr>\n",
       "      <th>1</th>\n",
       "      <td>4</td>\n",
       "      <td>3</td>\n",
       "      <td>7</td>\n",
       "    </tr>\n",
       "    <tr>\n",
       "      <th>All</th>\n",
       "      <td>61</td>\n",
       "      <td>5</td>\n",
       "      <td>66</td>\n",
       "    </tr>\n",
       "  </tbody>\n",
       "</table>\n",
       "</div>"
      ],
      "text/plain": [
       "Predicted   0  1  All\n",
       "Actual               \n",
       "0          57  2   59\n",
       "1           4  3    7\n",
       "All        61  5   66"
      ]
     },
     "execution_count": 127,
     "metadata": {},
     "output_type": "execute_result"
    }
   ],
   "source": [
    "# Inspect the confusion matrix, and obtained evaluation metrics\n",
    "pd.crosstab(\n",
    "    pd.Series(y_test, name='Actual'),\n",
    "    pd.Series(y_test_preds, name='Predicted'),\n",
    "    margins=True\n",
    ")"
   ]
  },
  {
   "cell_type": "code",
   "execution_count": 128,
   "metadata": {},
   "outputs": [
    {
     "name": "stdout",
     "output_type": "stream",
     "text": [
      "Accuracy: 0.91\n",
      "Precision: 0.60\n",
      "Recall: 0.43\n"
     ]
    }
   ],
   "source": [
    "print('Accuracy: {0:.2f}'.format(accuracy_score(y_test, y_test_preds)))\n",
    "print('Precision: {0:.2f}'.format(precision_score(y_test, y_test_preds)))\n",
    "print('Recall: {0:.2f}'.format(recall_score(y_test, y_test_preds)))"
   ]
  },
  {
   "cell_type": "code",
   "execution_count": 129,
   "metadata": {},
   "outputs": [],
   "source": [
    "# calculating the proportion between negative and positive instances\n",
    "dtrain = xgb.DMatrix(X_train, label=y_train)\n",
    "dtest = xgb.DMatrix(X_test)"
   ]
  },
  {
   "cell_type": "code",
   "execution_count": 130,
   "metadata": {},
   "outputs": [],
   "source": [
    "train_labels = dtrain.get_label()\n",
    "\n",
    "ratio = float(np.sum(train_labels == 0)) / np.sum(train_labels == 1)\n",
    "params['scale_pos_weight'] = ratio"
   ]
  },
  {
   "cell_type": "code",
   "execution_count": 131,
   "metadata": {},
   "outputs": [
    {
     "data": {
      "text/html": [
       "<div>\n",
       "<style scoped>\n",
       "    .dataframe tbody tr th:only-of-type {\n",
       "        vertical-align: middle;\n",
       "    }\n",
       "\n",
       "    .dataframe tbody tr th {\n",
       "        vertical-align: top;\n",
       "    }\n",
       "\n",
       "    .dataframe thead th {\n",
       "        text-align: right;\n",
       "    }\n",
       "</style>\n",
       "<table border=\"1\" class=\"dataframe\">\n",
       "  <thead>\n",
       "    <tr style=\"text-align: right;\">\n",
       "      <th>Predicted</th>\n",
       "      <th>0</th>\n",
       "      <th>1</th>\n",
       "      <th>All</th>\n",
       "    </tr>\n",
       "    <tr>\n",
       "      <th>Actual</th>\n",
       "      <th></th>\n",
       "      <th></th>\n",
       "      <th></th>\n",
       "    </tr>\n",
       "  </thead>\n",
       "  <tbody>\n",
       "    <tr>\n",
       "      <th>0</th>\n",
       "      <td>56</td>\n",
       "      <td>3</td>\n",
       "      <td>59</td>\n",
       "    </tr>\n",
       "    <tr>\n",
       "      <th>1</th>\n",
       "      <td>4</td>\n",
       "      <td>3</td>\n",
       "      <td>7</td>\n",
       "    </tr>\n",
       "    <tr>\n",
       "      <th>All</th>\n",
       "      <td>60</td>\n",
       "      <td>6</td>\n",
       "      <td>66</td>\n",
       "    </tr>\n",
       "  </tbody>\n",
       "</table>\n",
       "</div>"
      ],
      "text/plain": [
       "Predicted   0  1  All\n",
       "Actual               \n",
       "0          56  3   59\n",
       "1           4  3    7\n",
       "All        60  6   66"
      ]
     },
     "execution_count": 131,
     "metadata": {},
     "output_type": "execute_result"
    }
   ],
   "source": [
    "#  analyze the confusion matrix and obtained metrics\n",
    "bst = xgb.train(params, dtrain, num_rounds)\n",
    "y_test_preds = (bst.predict(dtest) > 0.5).astype('int')\n",
    "\n",
    "pd.crosstab(\n",
    "    pd.Series(y_test, name='Actual'),\n",
    "    pd.Series(y_test_preds, name='Predicted'),\n",
    "    margins=True\n",
    ")"
   ]
  },
  {
   "cell_type": "code",
   "execution_count": 132,
   "metadata": {},
   "outputs": [
    {
     "name": "stdout",
     "output_type": "stream",
     "text": [
      "Accuracy: 0.89\n",
      "Precision: 0.50\n",
      "Recall: 0.43\n"
     ]
    }
   ],
   "source": [
    "print('Accuracy: {0:.2f}'.format(accuracy_score(y_test, y_test_preds)))\n",
    "print('Precision: {0:.2f}'.format(precision_score(y_test, y_test_preds)))\n",
    "print('Recall: {0:.2f}'.format(recall_score(y_test, y_test_preds)))"
   ]
  },
  {
   "cell_type": "code",
   "execution_count": null,
   "metadata": {},
   "outputs": [],
   "source": []
  }
 ],
 "metadata": {
  "kernelspec": {
   "display_name": "Python 3",
   "language": "python",
   "name": "python3"
  },
  "language_info": {
   "codemirror_mode": {
    "name": "ipython",
    "version": 3
   },
   "file_extension": ".py",
   "mimetype": "text/x-python",
   "name": "python",
   "nbconvert_exporter": "python",
   "pygments_lexer": "ipython3",
   "version": "3.8.3"
  }
 },
 "nbformat": 4,
 "nbformat_minor": 4
}
